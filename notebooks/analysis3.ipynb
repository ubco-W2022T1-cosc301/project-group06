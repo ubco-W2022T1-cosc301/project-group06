{
 "cells": [
  {
   "cell_type": "markdown",
   "metadata": {},
   "source": [
    "# Eveline Srinivasan - 10801751"
   ]
  },
  {
   "cell_type": "markdown",
   "metadata": {},
   "source": [
    "## Research question/interests\n",
    "\n",
    "### Is there a significant age and gender disparity in the mental health of tech employees?\n",
    "\n",
    "Many news articles and other forms of media, highlight gender disparities in various metrics such as income, position, representation etc. However, mental health disparities and systemic inequalities are not given equivalent attention. The little focus placed on these topics are often in such broadstrokes that they are meaningless in helping enact real changes in the workplace. They often rely on metrics such as job satisfaction or being accepted by coworkers, which highlights inequalities but does not point to a source, or a solution. Therefore I want to use this dataset, to hopefully determine and also highlight, the more nuanced relationships between gender and mental health within the tech industry.\n",
    "\n",
    "\n"
   ]
  },
  {
   "cell_type": "code",
   "execution_count": 1,
   "metadata": {},
   "outputs": [],
   "source": [
    "#Importing\n",
    "import pandas as pd\n",
    "import numpy as np\n",
    "import seaborn as sns\n",
    "import matplotlib.pyplot as plt"
   ]
  },
  {
   "cell_type": "markdown",
   "metadata": {},
   "source": [
    "## Milestone 2\n",
    "---\n",
    "Importing data from file:"
   ]
  },
  {
   "cell_type": "code",
   "execution_count": 2,
   "metadata": {},
   "outputs": [],
   "source": [
    "# Importing Data \n",
    "rawData = pd.read_csv('../data/raw/dataRaw.csv')"
   ]
  },
  {
   "cell_type": "markdown",
   "metadata": {},
   "source": [
    "## Milestone 3\n",
    "---\n",
    "### Task 1: Conduct Exploratory Data Analysis (EDA) on your dataset.\n",
    "\n",
    "Columns available in the data set along which analysis can be performed:"
   ]
  },
  {
   "cell_type": "code",
   "execution_count": 3,
   "metadata": {},
   "outputs": [
    {
     "name": "stdout",
     "output_type": "stream",
     "text": [
      "Index(['Timestamp', 'Age', 'Gender', 'Country', 'state', 'self_employed',\n",
      "       'family_history', 'treatment', 'work_interfere', 'no_employees',\n",
      "       'remote_work', 'tech_company', 'benefits', 'care_options',\n",
      "       'wellness_program', 'seek_help', 'anonymity', 'leave',\n",
      "       'mental_health_consequence', 'phys_health_consequence', 'coworkers',\n",
      "       'supervisor', 'mental_health_interview', 'phys_health_interview',\n",
      "       'mental_vs_physical', 'obs_consequence', 'comments'],\n",
      "      dtype='object')\n"
     ]
    },
    {
     "data": {
      "text/plain": [
       "27"
      ]
     },
     "execution_count": 3,
     "metadata": {},
     "output_type": "execute_result"
    }
   ],
   "source": [
    "#Printing columns of Data set.\n",
    "print(rawData.columns)\n",
    "len(rawData.columns)\n"
   ]
  },
  {
   "cell_type": "markdown",
   "metadata": {},
   "source": [
    "These 27 columns can be interpreted by comparing it with the questionnaire provided with the [data source](https://www.kaggle.com/datasets/osmi/mental-health-in-tech-survey):\n",
    "\n",
    "1. Timestamp of the individual's survey\n",
    "2. Age of the individual\n",
    "3. Gender of the individual\n",
    "4. Country of origin of the individual\n",
    "5. US state of origin of the individual if applicable\n",
    "6. Whether or not the individual is self-employed\n",
    "7. Whether the individual has a history of mental illness\n",
    "8. Whether or not the individual has sought treatment for mental health\n",
    "9. Whether the individual believes their mental health interferes with their work\n",
    "10. The number of employees at the individual's company\n",
    "11. Whether the individual works remotely (outside of an office) at least 50% of the time\n",
    "12. Whether the individual's employer is a primarily tech company\n",
    "13. Whether the individual's employer provides mental health benefits\n",
    "14. Whether the individual is aware of their employer's mental health care options\n",
    "15. Whether the individual's employer has ever discussed a mental health wellness program\n",
    "16. Whether the individual's employer provides resources on how to seek help for mental health\n",
    "17. Whether the individual is able to use company resources for mental health anonymously\n",
    "18. The difficulty of taking mental health leaves at the individual's company\n",
    "19. Whether the individual thinks discussing mental health with their employer will have negative connotations\n",
    "20. Whether the individual thinks discussing physical health with their employer will have negative connotations\n",
    "21. Whether the individual would be willing to discuss mental health with their coworkers\n",
    "22. Whether the individual would be willing to discuss mental health with their direct supervisor\n",
    "23. Whether the individual would bring up mental health issues during an interview with a possible employer\n",
    "24. Whether the individual would bring up physical health issues during an interview with a possible employer\n",
    "25. Whether the individual believes their employer takes mental health as seriously as physical health\n",
    "26. Whether the individual has heard of or observed any negative consequences with mental health conditions in their workplace\n",
    "27.  Any additional comments\n",
    "\n",
    "### Outcomes of Interest:\n",
    "\n",
    "1. Whether the individual believes their mental health interferes with their work\n",
    "1. Whether the individual would be willing to discuss mental health with their coworkers\n",
    "1. Whether the individual would be willing to discuss mental health with their direct supervisor\n",
    "1. Whether or not the individual has sought treatment for mental health\n",
    "1. Whether the individual thinks discussing mental health with their employer will have negative connotations\n",
    "Particularly in relation to the question of gender. We want determine if there are disparties between various gender groups.\n",
    "\n",
    "Since we are only conducting an exploratory analysis see if we can identify patterns of interest within our data within gender and our outcomes independently."
   ]
  },
  {
   "cell_type": "code",
   "execution_count": 4,
   "metadata": {},
   "outputs": [
    {
     "data": {
      "text/plain": [
       "array(['Female', 'M', 'Male', 'male', 'female', 'm', 'Male-ish', 'maile',\n",
       "       'Trans-female', 'Cis Female', 'F', 'something kinda male?',\n",
       "       'Cis Male', 'Woman', 'f', 'Mal', 'Male (CIS)', 'queer/she/they',\n",
       "       'non-binary', 'Femake', 'woman', 'Make', 'Nah', 'All', 'Enby',\n",
       "       'fluid', 'Genderqueer', 'Female ', 'Androgyne', 'Agender',\n",
       "       'cis-female/femme', 'Guy (-ish) ^_^', 'male leaning androgynous',\n",
       "       'Male ', 'Man', 'Trans woman', 'msle', 'Neuter', 'Female (trans)',\n",
       "       'queer', 'Female (cis)', 'Mail', 'cis male', 'A little about you',\n",
       "       'Malr', 'p', 'femail', 'Cis Man',\n",
       "       'ostensibly male, unsure what that really means'], dtype=object)"
      ]
     },
     "execution_count": 4,
     "metadata": {},
     "output_type": "execute_result"
    }
   ],
   "source": [
    "rawData.Gender.unique()"
   ]
  },
  {
   "cell_type": "markdown",
   "metadata": {},
   "source": [
    "There are a lot of different ways people have written their genders, including misspellings that needs to be addressed. We will address those during the data cleaning phase in Task 2.\n",
    "However despite the issues we can get a general idea of the gender distribution in out data.  \n",
    "Note: Because of the large number of unique responses we are going to ignore all singularly unique responses."
   ]
  },
  {
   "cell_type": "code",
   "execution_count": 5,
   "metadata": {},
   "outputs": [
    {
     "data": {
      "text/plain": [
       "<AxesSubplot:>"
      ]
     },
     "execution_count": 5,
     "metadata": {},
     "output_type": "execute_result"
    },
    {
     "data": {
      "image/png": "[encoded data removed]",
      "text/plain": [
       "<Figure size 640x480 with 1 Axes>"
      ]
     },
     "metadata": {},
     "output_type": "display_data"
    }
   ],
   "source": [
    "GenderCount = rawData.Gender.value_counts()\n",
    "GenderCount[GenderCount>1].plot.barh()\n"
   ]
  },
  {
   "cell_type": "markdown",
   "metadata": {},
   "source": [
    "Evidently there is a large Male-Bias in the data. Furthermore, Although there are many trans respondants and most of them have unique gender identites that cannot be dealt with indivdually, So we will address the data on gender data on two fronts: GenderAlignment (Masc Aligned/Femme Aligned/Non-Binary) and GenderType (Cis/Trans). These columns will be generated in Task 2.\n",
    "\n",
    "Additionally, We need to know the overall pattern in the aspects of our data we are interested in to help our analysis of disparities later on."
   ]
  },
  {
   "cell_type": "code",
   "execution_count": 6,
   "metadata": {},
   "outputs": [
    {
     "data": {
      "text/plain": [
       "<AxesSubplot:>"
      ]
     },
     "execution_count": 6,
     "metadata": {},
     "output_type": "execute_result"
    },
    {
     "data": {
      "image/png": "[encoded data removed]",
      "text/plain": [
       "<Figure size 640x480 with 1 Axes>"
      ]
     },
     "metadata": {},
     "output_type": "display_data"
    }
   ],
   "source": [
    "ValueCounts = pd.DataFrame(rawData.family_history.value_counts())\n",
    "ValueCounts['treatment'] = rawData.treatment.value_counts()\n",
    "ValueCounts['coworkers'] = rawData.coworkers.value_counts()\n",
    "ValueCounts['supervisors'] = rawData.supervisor.value_counts()\n",
    "   \n",
    "ValueCounts.transpose().plot.bar()"
   ]
  },
  {
   "cell_type": "markdown",
   "metadata": {},
   "source": [
    "Interesting that more people have had treatment for mental illness than those who have a family history of mental illnesses. Furthermore we can see an interesting pattern that people are more willing to talk about their mental health with their supervisors than their coworkers.\n",
    "\n",
    "The next thing to look at is if respondants feel that their mental health has affected their work performance."
   ]
  },
  {
   "cell_type": "code",
   "execution_count": 7,
   "metadata": {},
   "outputs": [
    {
     "data": {
      "text/plain": [
       "<AxesSubplot:>"
      ]
     },
     "execution_count": 7,
     "metadata": {},
     "output_type": "execute_result"
    },
    {
     "data": {
      "image/png": "[encoded data removed]",
      "text/plain": [
       "<Figure size 640x480 with 1 Axes>"
      ]
     },
     "metadata": {},
     "output_type": "display_data"
    }
   ],
   "source": [
    "rawData.work_interfere.value_counts().plot.bar()"
   ]
  },
  {
   "cell_type": "markdown",
   "metadata": {},
   "source": [
    "The vast majority, Roughly over 80% of the respondants feel that mental health has affected their work performance. This validates the need for better mental health support in the tech industry as a whole, irrespective of gender disparities.\n",
    "\n",
    "Finally we also want to understand the age distribution of our data to understand the scope of our analysis, even if it proves irrelevent in our conclusions."
   ]
  },
  {
   "cell_type": "code",
   "execution_count": 8,
   "metadata": {},
   "outputs": [
    {
     "data": {
      "text/plain": [
       "<AxesSubplot:xlabel='Age'>"
      ]
     },
     "execution_count": 8,
     "metadata": {},
     "output_type": "execute_result"
    },
    {
     "data": {
      "image/png": "[encoded data removed]",
      "text/plain": [
       "<Figure size 640x480 with 1 Axes>"
      ]
     },
     "metadata": {},
     "output_type": "display_data"
    }
   ],
   "source": [
    "AgeCount = pd.DataFrame(rawData.Age.value_counts()).rename(columns={'Age':'Counts'}).sort_index(axis=0)\n",
    "AgeCount[AgeCount['Counts']>1].plot.bar(xlabel=\"Age\")"
   ]
  },
  {
   "cell_type": "markdown",
   "metadata": {},
   "source": [
    "As we can see there is a significant skew towards 25-35 year olds with a sizeable middle aged population."
   ]
  },
  {
   "cell_type": "markdown",
   "metadata": {},
   "source": [
    "### Task 2 : Setting up an \"Analysis Pipeline\"\n",
    "---\n",
    "First we need to load and process the data. \n",
    "  1. Remove unused columns\n",
    "  1. Account for misspelled Gender Data\n",
    "  1. Remove invalid ages outside the range 18 to 100.\n",
    "  1. Generate Gender Identity and Type data"
   ]
  },
  {
   "cell_type": "code",
   "execution_count": 9,
   "metadata": {},
   "outputs": [
    {
     "data": {
      "text/html": [
       "<div>\n",
       "<style scoped>\n",
       "    .dataframe tbody tr th:only-of-type {\n",
       "        vertical-align: middle;\n",
       "    }\n",
       "\n",
       "    .dataframe tbody tr th {\n",
       "        vertical-align: top;\n",
       "    }\n",
       "\n",
       "    .dataframe thead th {\n",
       "        text-align: right;\n",
       "    }\n",
       "</style>\n",
       "<table border=\"1\" class=\"dataframe\">\n",
       "  <thead>\n",
       "    <tr style=\"text-align: right;\">\n",
       "      <th></th>\n",
       "      <th>Age</th>\n",
       "      <th>Gender</th>\n",
       "      <th>work_interfere</th>\n",
       "      <th>coworkers</th>\n",
       "      <th>supervisor</th>\n",
       "      <th>mental_health_consequence</th>\n",
       "      <th>treatment</th>\n",
       "      <th>gender_alignment</th>\n",
       "      <th>gender_type</th>\n",
       "    </tr>\n",
       "  </thead>\n",
       "  <tbody>\n",
       "    <tr>\n",
       "      <th>0</th>\n",
       "      <td>37.0</td>\n",
       "      <td>F</td>\n",
       "      <td>Often</td>\n",
       "      <td>Some of them</td>\n",
       "      <td>Yes</td>\n",
       "      <td>No</td>\n",
       "      <td>Yes</td>\n",
       "      <td>FA</td>\n",
       "      <td>Cis</td>\n",
       "    </tr>\n",
       "    <tr>\n",
       "      <th>1</th>\n",
       "      <td>44.0</td>\n",
       "      <td>M</td>\n",
       "      <td>Rarely</td>\n",
       "      <td>No</td>\n",
       "      <td>No</td>\n",
       "      <td>Maybe</td>\n",
       "      <td>No</td>\n",
       "      <td>MA</td>\n",
       "      <td>Cis</td>\n",
       "    </tr>\n",
       "    <tr>\n",
       "      <th>2</th>\n",
       "      <td>32.0</td>\n",
       "      <td>M</td>\n",
       "      <td>Rarely</td>\n",
       "      <td>Yes</td>\n",
       "      <td>Yes</td>\n",
       "      <td>No</td>\n",
       "      <td>No</td>\n",
       "      <td>MA</td>\n",
       "      <td>Cis</td>\n",
       "    </tr>\n",
       "    <tr>\n",
       "      <th>3</th>\n",
       "      <td>31.0</td>\n",
       "      <td>M</td>\n",
       "      <td>Often</td>\n",
       "      <td>Some of them</td>\n",
       "      <td>No</td>\n",
       "      <td>Yes</td>\n",
       "      <td>Yes</td>\n",
       "      <td>MA</td>\n",
       "      <td>Cis</td>\n",
       "    </tr>\n",
       "    <tr>\n",
       "      <th>4</th>\n",
       "      <td>31.0</td>\n",
       "      <td>M</td>\n",
       "      <td>Never</td>\n",
       "      <td>Some of them</td>\n",
       "      <td>Yes</td>\n",
       "      <td>No</td>\n",
       "      <td>No</td>\n",
       "      <td>MA</td>\n",
       "      <td>Cis</td>\n",
       "    </tr>\n",
       "    <tr>\n",
       "      <th>...</th>\n",
       "      <td>...</td>\n",
       "      <td>...</td>\n",
       "      <td>...</td>\n",
       "      <td>...</td>\n",
       "      <td>...</td>\n",
       "      <td>...</td>\n",
       "      <td>...</td>\n",
       "      <td>...</td>\n",
       "      <td>...</td>\n",
       "    </tr>\n",
       "    <tr>\n",
       "      <th>1254</th>\n",
       "      <td>26.0</td>\n",
       "      <td>M</td>\n",
       "      <td>NaN</td>\n",
       "      <td>Some of them</td>\n",
       "      <td>Some of them</td>\n",
       "      <td>No</td>\n",
       "      <td>Yes</td>\n",
       "      <td>MA</td>\n",
       "      <td>Cis</td>\n",
       "    </tr>\n",
       "    <tr>\n",
       "      <th>1255</th>\n",
       "      <td>32.0</td>\n",
       "      <td>M</td>\n",
       "      <td>Often</td>\n",
       "      <td>Some of them</td>\n",
       "      <td>Yes</td>\n",
       "      <td>No</td>\n",
       "      <td>Yes</td>\n",
       "      <td>MA</td>\n",
       "      <td>Cis</td>\n",
       "    </tr>\n",
       "    <tr>\n",
       "      <th>1256</th>\n",
       "      <td>34.0</td>\n",
       "      <td>M</td>\n",
       "      <td>Sometimes</td>\n",
       "      <td>No</td>\n",
       "      <td>No</td>\n",
       "      <td>Yes</td>\n",
       "      <td>Yes</td>\n",
       "      <td>MA</td>\n",
       "      <td>Cis</td>\n",
       "    </tr>\n",
       "    <tr>\n",
       "      <th>1257</th>\n",
       "      <td>46.0</td>\n",
       "      <td>F</td>\n",
       "      <td>NaN</td>\n",
       "      <td>No</td>\n",
       "      <td>No</td>\n",
       "      <td>Yes</td>\n",
       "      <td>No</td>\n",
       "      <td>FA</td>\n",
       "      <td>Cis</td>\n",
       "    </tr>\n",
       "    <tr>\n",
       "      <th>1258</th>\n",
       "      <td>25.0</td>\n",
       "      <td>M</td>\n",
       "      <td>Sometimes</td>\n",
       "      <td>Some of them</td>\n",
       "      <td>No</td>\n",
       "      <td>Maybe</td>\n",
       "      <td>Yes</td>\n",
       "      <td>MA</td>\n",
       "      <td>Cis</td>\n",
       "    </tr>\n",
       "  </tbody>\n",
       "</table>\n",
       "<p>1256 rows × 9 columns</p>\n",
       "</div>"
      ],
      "text/plain": [
       "       Age Gender work_interfere     coworkers    supervisor  \\\n",
       "0     37.0      F          Often  Some of them           Yes   \n",
       "1     44.0      M         Rarely            No            No   \n",
       "2     32.0      M         Rarely           Yes           Yes   \n",
       "3     31.0      M          Often  Some of them            No   \n",
       "4     31.0      M          Never  Some of them           Yes   \n",
       "...    ...    ...            ...           ...           ...   \n",
       "1254  26.0      M            NaN  Some of them  Some of them   \n",
       "1255  32.0      M          Often  Some of them           Yes   \n",
       "1256  34.0      M      Sometimes            No            No   \n",
       "1257  46.0      F            NaN            No            No   \n",
       "1258  25.0      M      Sometimes  Some of them            No   \n",
       "\n",
       "     mental_health_consequence treatment gender_alignment gender_type  \n",
       "0                           No       Yes               FA         Cis  \n",
       "1                        Maybe        No               MA         Cis  \n",
       "2                           No        No               MA         Cis  \n",
       "3                          Yes       Yes               MA         Cis  \n",
       "4                           No        No               MA         Cis  \n",
       "...                        ...       ...              ...         ...  \n",
       "1254                        No       Yes               MA         Cis  \n",
       "1255                        No       Yes               MA         Cis  \n",
       "1256                       Yes       Yes               MA         Cis  \n",
       "1257                       Yes        No               FA         Cis  \n",
       "1258                     Maybe       Yes               MA         Cis  \n",
       "\n",
       "[1256 rows x 9 columns]"
      ]
     },
     "execution_count": 9,
     "metadata": {},
     "output_type": "execute_result"
    }
   ],
   "source": [
    "rawDF= pd.read_csv('../data/raw/dataRaw.csv') # Loading Raw Data into dataframe\n",
    "\n",
    "# Removing columns that is not relevant to our analysis\n",
    "skimmedDF= rawDF[['Age','Gender','work_interfere','coworkers','supervisor','mental_health_consequence','treatment']]\n",
    "\n",
    "# Dictionary that maps all values of gender to more managable form. \n",
    "# Prefix T = Trans/Non Cis ; Gendermarker is based on Masc-Femme Alignment.\n",
    "# NB is implied trans and neither Masc or Femme. NA is used for junk responses.\n",
    "genderDict :dict = {'Female':'F','Male':'M','male':'M','M':'M','m':'M','Male-ish':'TM','maile':'M','Trans-female':'TF',\n",
    "                        'Cis Female':'F','F':'F','something kinda male?':'TM','Cis Male':'M','Woman':'F','f':'F','Mal':'M',\n",
    "                        'Male (CIS)':'M','queer/she/they':'TF','non-binary':'NB','Femake':'F','woman':'F','Make':'M','Nah':'NA',\n",
    "                        'All':'NB','Enby':'NB','fluid':'NB','Genderqueer':'NB','Female ':'F','Androgyne':'NB','Agender':'NB',\n",
    "                        'cis-female/femme':'F','Guy (-ish) ^_^':'TM','male leaning androgynous':'TM','Male ':'M','Man':'M',\n",
    "                        'Trans woman':'TF','msle':'M','Neuter':'NB','Female (trans)':'TF','queer':'NB','Female (cis)':'F',\n",
    "                        'Mail':'M','cis male':'M','A little about you':'NA','Malr':'M','p':'NA','femail':'F','Cis Man':'M',\n",
    "                        'ostensibly male, unsure what that really means':'TM','female':'F'}\n",
    "\n",
    "#Replacing Gender values according to dictionary\n",
    "genderDF = skimmedDF.replace({'Gender':genderDict})\n",
    "\n",
    "#dropping repondants with gender as 'NA' since it is not relevant to our question (3 Entries)\n",
    "genderDF.drop(genderDF[genderDF['Gender']== 'NA'].index, inplace = True)\n",
    "\n",
    "#Getting the indexes of Age values that are invalid\n",
    "invalidAgeList = list(genderDF.loc[(genderDF['Age'].astype('int') < 18) | (genderDF['Age'].astype('int') > 100)].index)\n",
    "\n",
    "#Replacing Invalid Values with 'NA'\n",
    "genderDF.loc[invalidAgeList,'Age'] = np.nan\n",
    "\n",
    "#Rename for clarity\n",
    "cleanedDF = genderDF\n",
    "\n",
    "#Now that the data is cleaned up we need to generate the column GenderAlignment and GenderType columns\n",
    "#List of condtions \n",
    "conditions= [(cleanedDF['Gender'] == 'NB'),   \n",
    "             (cleanedDF['Gender'] == 'TF'),\n",
    "             (cleanedDF['Gender'] =='TM'),\n",
    "             (cleanedDF['Gender'] == 'M'),\n",
    "             (cleanedDF['Gender'] == 'F'),\n",
    "             (cleanedDF['Gender'] == 'NA')]\n",
    "\n",
    "#list of corresponding values\n",
    "gAlignmentValues = ['NBA','FA','MA','MA','FA','NA']\n",
    "gTypeValues = ['Trans','Trans','Trans','Cis','Cis','NA']\n",
    "\n",
    "#generating columns using npselect\n",
    "cleanedDF['gender_alignment'] = np.select(conditions, gAlignmentValues, default='NA')\n",
    "cleanedDF['gender_type'] = np.select(conditions, gTypeValues, default='NA')\n",
    "\n",
    "#rename for clarity\n",
    "processedDF= cleanedDF\n",
    "\n",
    "#Saving Cleaned Data for ease\n",
    "processedDF.to_csv('../data/processed/eSrinivasanResearchQuestionData.csv',index=False)\n",
    "\n",
    "#Printing Data frame to show end Result\n",
    "processedDF"
   ]
  },
  {
   "cell_type": "markdown",
   "metadata": {},
   "source": [
    "### Task 3 - Method Chaining and writing Python programs\n",
    "---\n"
   ]
  },
  {
   "cell_type": "code",
   "execution_count": 22,
   "metadata": {},
   "outputs": [
    {
     "data": {
      "text/html": [
       "<div>\n",
       "<style scoped>\n",
       "    .dataframe tbody tr th:only-of-type {\n",
       "        vertical-align: middle;\n",
       "    }\n",
       "\n",
       "    .dataframe tbody tr th {\n",
       "        vertical-align: top;\n",
       "    }\n",
       "\n",
       "    .dataframe thead th {\n",
       "        text-align: right;\n",
       "    }\n",
       "</style>\n",
       "<table border=\"1\" class=\"dataframe\">\n",
       "  <thead>\n",
       "    <tr style=\"text-align: right;\">\n",
       "      <th></th>\n",
       "      <th>Age</th>\n",
       "      <th>Gender</th>\n",
       "      <th>work_interfere</th>\n",
       "      <th>coworkers</th>\n",
       "      <th>supervisor</th>\n",
       "      <th>mental_health_consequence</th>\n",
       "      <th>treatment</th>\n",
       "      <th>gender_alignment</th>\n",
       "      <th>gender_type</th>\n",
       "    </tr>\n",
       "  </thead>\n",
       "  <tbody>\n",
       "    <tr>\n",
       "      <th>0</th>\n",
       "      <td>37.0</td>\n",
       "      <td>F</td>\n",
       "      <td>Often</td>\n",
       "      <td>Some of them</td>\n",
       "      <td>Yes</td>\n",
       "      <td>No</td>\n",
       "      <td>Yes</td>\n",
       "      <td>FA</td>\n",
       "      <td>Cis</td>\n",
       "    </tr>\n",
       "    <tr>\n",
       "      <th>1</th>\n",
       "      <td>44.0</td>\n",
       "      <td>M</td>\n",
       "      <td>Rarely</td>\n",
       "      <td>No</td>\n",
       "      <td>No</td>\n",
       "      <td>Maybe</td>\n",
       "      <td>No</td>\n",
       "      <td>MA</td>\n",
       "      <td>Cis</td>\n",
       "    </tr>\n",
       "    <tr>\n",
       "      <th>2</th>\n",
       "      <td>32.0</td>\n",
       "      <td>M</td>\n",
       "      <td>Rarely</td>\n",
       "      <td>Yes</td>\n",
       "      <td>Yes</td>\n",
       "      <td>No</td>\n",
       "      <td>No</td>\n",
       "      <td>MA</td>\n",
       "      <td>Cis</td>\n",
       "    </tr>\n",
       "    <tr>\n",
       "      <th>3</th>\n",
       "      <td>31.0</td>\n",
       "      <td>M</td>\n",
       "      <td>Often</td>\n",
       "      <td>Some of them</td>\n",
       "      <td>No</td>\n",
       "      <td>Yes</td>\n",
       "      <td>Yes</td>\n",
       "      <td>MA</td>\n",
       "      <td>Cis</td>\n",
       "    </tr>\n",
       "    <tr>\n",
       "      <th>4</th>\n",
       "      <td>31.0</td>\n",
       "      <td>M</td>\n",
       "      <td>Never</td>\n",
       "      <td>Some of them</td>\n",
       "      <td>Yes</td>\n",
       "      <td>No</td>\n",
       "      <td>No</td>\n",
       "      <td>MA</td>\n",
       "      <td>Cis</td>\n",
       "    </tr>\n",
       "    <tr>\n",
       "      <th>...</th>\n",
       "      <td>...</td>\n",
       "      <td>...</td>\n",
       "      <td>...</td>\n",
       "      <td>...</td>\n",
       "      <td>...</td>\n",
       "      <td>...</td>\n",
       "      <td>...</td>\n",
       "      <td>...</td>\n",
       "      <td>...</td>\n",
       "    </tr>\n",
       "    <tr>\n",
       "      <th>1254</th>\n",
       "      <td>26.0</td>\n",
       "      <td>M</td>\n",
       "      <td>NaN</td>\n",
       "      <td>Some of them</td>\n",
       "      <td>Some of them</td>\n",
       "      <td>No</td>\n",
       "      <td>Yes</td>\n",
       "      <td>MA</td>\n",
       "      <td>Cis</td>\n",
       "    </tr>\n",
       "    <tr>\n",
       "      <th>1255</th>\n",
       "      <td>32.0</td>\n",
       "      <td>M</td>\n",
       "      <td>Often</td>\n",
       "      <td>Some of them</td>\n",
       "      <td>Yes</td>\n",
       "      <td>No</td>\n",
       "      <td>Yes</td>\n",
       "      <td>MA</td>\n",
       "      <td>Cis</td>\n",
       "    </tr>\n",
       "    <tr>\n",
       "      <th>1256</th>\n",
       "      <td>34.0</td>\n",
       "      <td>M</td>\n",
       "      <td>Sometimes</td>\n",
       "      <td>No</td>\n",
       "      <td>No</td>\n",
       "      <td>Yes</td>\n",
       "      <td>Yes</td>\n",
       "      <td>MA</td>\n",
       "      <td>Cis</td>\n",
       "    </tr>\n",
       "    <tr>\n",
       "      <th>1257</th>\n",
       "      <td>46.0</td>\n",
       "      <td>F</td>\n",
       "      <td>NaN</td>\n",
       "      <td>No</td>\n",
       "      <td>No</td>\n",
       "      <td>Yes</td>\n",
       "      <td>No</td>\n",
       "      <td>FA</td>\n",
       "      <td>Cis</td>\n",
       "    </tr>\n",
       "    <tr>\n",
       "      <th>1258</th>\n",
       "      <td>25.0</td>\n",
       "      <td>M</td>\n",
       "      <td>Sometimes</td>\n",
       "      <td>Some of them</td>\n",
       "      <td>No</td>\n",
       "      <td>Maybe</td>\n",
       "      <td>Yes</td>\n",
       "      <td>MA</td>\n",
       "      <td>Cis</td>\n",
       "    </tr>\n",
       "  </tbody>\n",
       "</table>\n",
       "<p>1256 rows × 9 columns</p>\n",
       "</div>"
      ],
      "text/plain": [
       "       Age Gender work_interfere     coworkers    supervisor  \\\n",
       "0     37.0      F          Often  Some of them           Yes   \n",
       "1     44.0      M         Rarely            No            No   \n",
       "2     32.0      M         Rarely           Yes           Yes   \n",
       "3     31.0      M          Often  Some of them            No   \n",
       "4     31.0      M          Never  Some of them           Yes   \n",
       "...    ...    ...            ...           ...           ...   \n",
       "1254  26.0      M            NaN  Some of them  Some of them   \n",
       "1255  32.0      M          Often  Some of them           Yes   \n",
       "1256  34.0      M      Sometimes            No            No   \n",
       "1257  46.0      F            NaN            No            No   \n",
       "1258  25.0      M      Sometimes  Some of them            No   \n",
       "\n",
       "     mental_health_consequence treatment gender_alignment gender_type  \n",
       "0                           No       Yes               FA         Cis  \n",
       "1                        Maybe        No               MA         Cis  \n",
       "2                           No        No               MA         Cis  \n",
       "3                          Yes       Yes               MA         Cis  \n",
       "4                           No        No               MA         Cis  \n",
       "...                        ...       ...              ...         ...  \n",
       "1254                        No       Yes               MA         Cis  \n",
       "1255                        No       Yes               MA         Cis  \n",
       "1256                       Yes       Yes               MA         Cis  \n",
       "1257                       Yes        No               FA         Cis  \n",
       "1258                     Maybe       Yes               MA         Cis  \n",
       "\n",
       "[1256 rows x 9 columns]"
      ]
     },
     "execution_count": 22,
     "metadata": {},
     "output_type": "execute_result"
    }
   ],
   "source": [
    "import project_functions3 as pf3\n",
    "finalDF = pf3.load_and_process('../data/raw/dataRaw.csv')\n",
    "finalDF"
   ]
  },
  {
   "cell_type": "markdown",
   "metadata": {},
   "source": [
    "Since the data is going to be grouped along the gender_alignment and gender_type variables, and also need it to be normalized for sample bias it would be prudent to define a function that plots the percentage of each group that corresponds to a particular value in a column. The function is countNormalizedPlot.   \n",
    "\n",
    "It's defined is as follows:  "
   ]
  },
  {
   "cell_type": "code",
   "execution_count": 11,
   "metadata": {},
   "outputs": [],
   "source": [
    "def countNormalizedPlot (df,x,y):\n",
    "    (df.groupby(x)[y]\n",
    "    .value_counts(normalize=True)\n",
    "    .mul(100)\n",
    "    .rename('percent')\n",
    "    .reset_index()\n",
    "    .pipe((sns.catplot,'data'), x=y,y='percent',hue=x,kind='bar'))\n",
    "    return\n"
   ]
  },
  {
   "cell_type": "markdown",
   "metadata": {},
   "source": [
    "### Task 4 - Conduct Analysis\n",
    " ---\n",
    "Task 4 is completed in groupAnalysis.ipynb."
   ]
  },
  {
   "cell_type": "markdown",
   "metadata": {},
   "source": [
    "## Milestone 4\n",
    "---"
   ]
  }
 ],
 "metadata": {
  "kernelspec": {
   "display_name": "Python 3.9.7 64-bit",
   "language": "python",
   "name": "python3"
  },
  "language_info": {
   "codemirror_mode": {
    "name": "ipython",
    "version": 3
   },
   "file_extension": ".py",
   "mimetype": "text/x-python",
   "name": "python",
   "nbconvert_exporter": "python",
   "pygments_lexer": "ipython3",
   "version": "3.9.7"
  },
  "vscode": {
   "interpreter": {
    "hash": "89dcc342a0fed62138efada758abb9b56691d50b2e1d6d602c5938bd1909f7bb"
   }
  }
 },
 "nbformat": 4,
 "nbformat_minor": 2
}
