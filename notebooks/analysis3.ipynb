{
 "cells": [
  {
   "cell_type": "markdown",
   "metadata": {},
   "source": [
    "# Eveline Srinivasan - 10801751"
   ]
  },
  {
   "cell_type": "markdown",
   "metadata": {},
   "source": [
    "## Research question/interests\n",
    "\n",
    "Is there a significant age and gender disparity in the mental health of tech employees?"
   ]
  },
  {
   "cell_type": "code",
   "execution_count": null,
   "metadata": {},
   "outputs": [],
   "source": [
    "import pandas as pd\n",
    "rawData = pd.read_csv('../data/raw/dataRaw.csv')\n",
    "rowSkim=  pd.DataFrame(rawData,columns=['Age','Gender'])\n",
    "print('Relevant Rows')\n",
    "print(rowSkim)"
   ]
  }
 ],
 "metadata": {
  "kernelspec": {
   "display_name": "Python 3.9.12 ('base')",
   "language": "python",
   "name": "python3"
  },
  "language_info": {
   "name": "python",
   "version": "3.9.12"
  },
  "vscode": {
   "interpreter": {
    "hash": "7a2f4c0689fa9fe90193601ac86f20b0d28fc49b4156d451f068471fd1fcb12b"
   }
  }
 },
 "nbformat": 4,
 "nbformat_minor": 2
}
