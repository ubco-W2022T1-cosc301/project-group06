{
 "cells": [
  {
   "cell_type": "markdown",
   "metadata": {},
   "source": [
    "# Eveline Srinivasan - 10801751"
   ]
  },
  {
   "cell_type": "markdown",
   "metadata": {},
   "source": [
    "## Research question/interests\n",
    "\n",
    "### Is there a significant age and gender disparity in the mental health of tech employees?\n",
    "\n",
    "Many news articles and other forms of media, highlight gender disparities in various metrics such as income, position, representation etc. By using the dataset we seek to determine if the impact of such disparities is reflected in the mental health of women and other under-represented groups within the tech industry.\n",
    "\n"
   ]
  },
  {
   "cell_type": "code",
   "execution_count": 25,
   "metadata": {},
   "outputs": [],
   "source": [
    "#Importing\n",
    "import pandas as pd\n",
    "import numpy as np"
   ]
  },
  {
   "cell_type": "markdown",
   "metadata": {},
   "source": [
    "## Milestone 2\n",
    "---\n",
    "Importing data from file:"
   ]
  },
  {
   "cell_type": "code",
   "execution_count": 26,
   "metadata": {},
   "outputs": [],
   "source": [
    "# Importing Data \n",
    "rawData = pd.read_csv('../data/raw/dataRaw.csv')"
   ]
  },
  {
   "cell_type": "markdown",
   "metadata": {},
   "source": [
    "## Milestone 3\n",
    "---\n",
    "### Task 1: Conduct Exploratory Data Analysis (EDA) on your dataset.\n",
    "\n",
    "Columns available in the data set along which analysis can be performed:"
   ]
  },
  {
   "cell_type": "code",
   "execution_count": 27,
   "metadata": {},
   "outputs": [
    {
     "name": "stdout",
     "output_type": "stream",
     "text": [
      "Index(['Timestamp', 'Age', 'Gender', 'Country', 'state', 'self_employed',\n",
      "       'family_history', 'treatment', 'work_interfere', 'no_employees',\n",
      "       'remote_work', 'tech_company', 'benefits', 'care_options',\n",
      "       'wellness_program', 'seek_help', 'anonymity', 'leave',\n",
      "       'mental_health_consequence', 'phys_health_consequence', 'coworkers',\n",
      "       'supervisor', 'mental_health_interview', 'phys_health_interview',\n",
      "       'mental_vs_physical', 'obs_consequence', 'comments'],\n",
      "      dtype='object')\n"
     ]
    },
    {
     "data": {
      "text/plain": [
       "27"
      ]
     },
     "execution_count": 27,
     "metadata": {},
     "output_type": "execute_result"
    }
   ],
   "source": [
    "#Printing columns of Data set.\n",
    "print(rawData.columns)\n",
    "len(rawData.columns)\n"
   ]
  },
  {
   "cell_type": "markdown",
   "metadata": {},
   "source": [
    "These 27 columns can be interpreted by comparing it with the questionnaire provided with the [data source](https://www.kaggle.com/datasets/osmi/mental-health-in-tech-survey):\n",
    "\n",
    "1. Timestamp of the individual's survey\n",
    "2. Age of the individual\n",
    "3. Gender of the individual\n",
    "4. Country of origin of the individual\n",
    "5. US state of origin of the individual if applicable\n",
    "6. Whether or not the individual is self-employed\n",
    "7. Whether the individual has a history of mental illness\n",
    "8. Whether or not the individual has sought treatment for mental health\n",
    "9. Whether the individual believes their mental health interferes with their work\n",
    "10. The number of employees at the individual's company\n",
    "11. Whether the individual works remotely (outside of an office) at least 50% of the time\n",
    "12. Whether the individual's employer is a primarily tech company\n",
    "13. Whether the individual's employer provides mental health benefits\n",
    "14. Whether the individual is aware of their employer's mental health care options\n",
    "15. Whether the individual's employer has ever discussed a mental health wellness program\n",
    "16. Whether the individual's employer provides resources on how to seek help for mental health\n",
    "17. Whether the individual is able to use company resources for mental health anonymously\n",
    "18. The difficulty of taking mental health leaves at the individual's company\n",
    "19. Whether the individual thinks discussing mental health with their employer will have negative connotations\n",
    "20. Whether the individual thinks discussing physical health with their employer will have negative connotations\n",
    "21. Whether the individual would be willing to discuss mental health with their coworkers\n",
    "22. Whether the individual would be willing to discuss mental health with their direct supervisor\n",
    "23. Whether the individual would bring up mental health issues during an interview with a possible employer\n",
    "24. Whether the individual would bring up physical health issues during an interview with a possible employer\n",
    "25. Whether the individual believes their employer takes mental health as seriously as physical health\n",
    "26. Whether the individual has heard of or observed any negative consequences with mental health conditions in their workplace\n",
    "27.  Any additional comments\n",
    "\n",
    "### From here the columns of primary importance are:\n",
    "\n",
    "1. Age of the individual\n",
    "1. Gender of the Individual\n",
    "1. Family History of Mental Illness\n",
    "\n",
    "### Systemic factors of interest: \n",
    "\n",
    "#### Support Systems available:\n",
    "\n",
    "1. Whether the individual's employer provides mental health benefits\n",
    "1. Whether the individual's employer has ever discussed a mental health wellness program\n",
    "1. Whether the individual's employer provides resources on how to seek help for mental health\n",
    "\n",
    "#### Workplace Culture Factors:\n",
    "\n",
    "1. Whether the individual has heard of or observed any negative consequences with mental health conditions in their workplace\n",
    "1. Whether the individual thinks discussing mental health with their employer will have negative connotations\n",
    "1. Whether the individual thinks discussing physical health with their employer will have negative connotations\n",
    "\n",
    "### Outcomes of Interest:\n",
    "\n",
    "1. Whether or not the individual has sought treatment for mental health\n",
    "1. Whether the individual believes their mental health interferes with their work\n",
    "1. Whether the individual would be willing to discuss mental health with their coworkers\n",
    "1. Whether the individual would be willing to discuss mental health with their direct supervisor\n",
    "1. Whether the individual has heard of or observed any negative consequences with mental health conditions in their workplace\n",
    "\n",
    "Particularly in relation to the question of gender. We want determine if there are disparties between various gender groups.\n",
    "\n",
    "Since we are only conducting an exploratory analysis we will ignore systemic factors and see if we can identify patterns of interest within our data. So first we trim out data set to only the columns of interest:"
   ]
  },
  {
   "cell_type": "code",
   "execution_count": 28,
   "metadata": {},
   "outputs": [
    {
     "data": {
      "text/html": [
       "<div>\n",
       "<style scoped>\n",
       "    .dataframe tbody tr th:only-of-type {\n",
       "        vertical-align: middle;\n",
       "    }\n",
       "\n",
       "    .dataframe tbody tr th {\n",
       "        vertical-align: top;\n",
       "    }\n",
       "\n",
       "    .dataframe thead th {\n",
       "        text-align: right;\n",
       "    }\n",
       "</style>\n",
       "<table border=\"1\" class=\"dataframe\">\n",
       "  <thead>\n",
       "    <tr style=\"text-align: right;\">\n",
       "      <th></th>\n",
       "      <th>Age</th>\n",
       "      <th>Gender</th>\n",
       "      <th>family_history</th>\n",
       "      <th>treatment</th>\n",
       "      <th>work_interfere</th>\n",
       "      <th>coworkers</th>\n",
       "      <th>supervisor</th>\n",
       "      <th>obs_consequence</th>\n",
       "    </tr>\n",
       "  </thead>\n",
       "  <tbody>\n",
       "    <tr>\n",
       "      <th>0</th>\n",
       "      <td>37</td>\n",
       "      <td>Female</td>\n",
       "      <td>No</td>\n",
       "      <td>Yes</td>\n",
       "      <td>Often</td>\n",
       "      <td>Some of them</td>\n",
       "      <td>Yes</td>\n",
       "      <td>No</td>\n",
       "    </tr>\n",
       "    <tr>\n",
       "      <th>1</th>\n",
       "      <td>44</td>\n",
       "      <td>M</td>\n",
       "      <td>No</td>\n",
       "      <td>No</td>\n",
       "      <td>Rarely</td>\n",
       "      <td>No</td>\n",
       "      <td>No</td>\n",
       "      <td>No</td>\n",
       "    </tr>\n",
       "    <tr>\n",
       "      <th>2</th>\n",
       "      <td>32</td>\n",
       "      <td>Male</td>\n",
       "      <td>No</td>\n",
       "      <td>No</td>\n",
       "      <td>Rarely</td>\n",
       "      <td>Yes</td>\n",
       "      <td>Yes</td>\n",
       "      <td>No</td>\n",
       "    </tr>\n",
       "    <tr>\n",
       "      <th>3</th>\n",
       "      <td>31</td>\n",
       "      <td>Male</td>\n",
       "      <td>Yes</td>\n",
       "      <td>Yes</td>\n",
       "      <td>Often</td>\n",
       "      <td>Some of them</td>\n",
       "      <td>No</td>\n",
       "      <td>Yes</td>\n",
       "    </tr>\n",
       "    <tr>\n",
       "      <th>4</th>\n",
       "      <td>31</td>\n",
       "      <td>Male</td>\n",
       "      <td>No</td>\n",
       "      <td>No</td>\n",
       "      <td>Never</td>\n",
       "      <td>Some of them</td>\n",
       "      <td>Yes</td>\n",
       "      <td>No</td>\n",
       "    </tr>\n",
       "  </tbody>\n",
       "</table>\n",
       "</div>"
      ],
      "text/plain": [
       "   Age  Gender family_history treatment work_interfere     coworkers  \\\n",
       "0   37  Female             No       Yes          Often  Some of them   \n",
       "1   44       M             No        No         Rarely            No   \n",
       "2   32    Male             No        No         Rarely           Yes   \n",
       "3   31    Male            Yes       Yes          Often  Some of them   \n",
       "4   31    Male             No        No          Never  Some of them   \n",
       "\n",
       "  supervisor obs_consequence  \n",
       "0        Yes              No  \n",
       "1         No              No  \n",
       "2        Yes              No  \n",
       "3         No             Yes  \n",
       "4        Yes              No  "
      ]
     },
     "execution_count": 28,
     "metadata": {},
     "output_type": "execute_result"
    }
   ],
   "source": [
    "skimmedData = rawData[['Age','Gender','family_history','treatment','work_interfere','coworkers','supervisor','obs_consequence']]\n",
    "skimmedData.head()"
   ]
  },
  {
   "cell_type": "markdown",
   "metadata": {},
   "source": [
    "Now that we have only the relevant columns, and notice that gender is write-in field. We can investigate further."
   ]
  },
  {
   "cell_type": "code",
   "execution_count": 29,
   "metadata": {},
   "outputs": [
    {
     "data": {
      "text/plain": [
       "array(['Female', 'M', 'Male', 'male', 'female', 'm', 'Male-ish', 'maile',\n",
       "       'Trans-female', 'Cis Female', 'F', 'something kinda male?',\n",
       "       'Cis Male', 'Woman', 'f', 'Mal', 'Male (CIS)', 'queer/she/they',\n",
       "       'non-binary', 'Femake', 'woman', 'Make', 'Nah', 'All', 'Enby',\n",
       "       'fluid', 'Genderqueer', 'Female ', 'Androgyne', 'Agender',\n",
       "       'cis-female/femme', 'Guy (-ish) ^_^', 'male leaning androgynous',\n",
       "       'Male ', 'Man', 'Trans woman', 'msle', 'Neuter', 'Female (trans)',\n",
       "       'queer', 'Female (cis)', 'Mail', 'cis male', 'A little about you',\n",
       "       'Malr', 'p', 'femail', 'Cis Man',\n",
       "       'ostensibly male, unsure what that really means'], dtype=object)"
      ]
     },
     "execution_count": 29,
     "metadata": {},
     "output_type": "execute_result"
    }
   ],
   "source": [
    "skimmedData.Gender.unique()"
   ]
  },
  {
   "cell_type": "markdown",
   "metadata": {},
   "source": [
    "There are a lot of different ways people have written their genders, including misspellings that needs to be addressed. We will address those during the data cleaning phase.\n",
    "For now let us investigate the relation between the columns, excluding gender.\n",
    "\n",
    "Let us investigate the general pattern of family history and our factors of outcome in the dataset."
   ]
  },
  {
   "cell_type": "code",
   "execution_count": 39,
   "metadata": {},
   "outputs": [
    {
     "name": "stdout",
     "output_type": "stream",
     "text": [
      "No     767\n",
      "Yes    492\n",
      "Name: family_history, dtype: int64\n",
      "Yes    637\n",
      "No     622\n",
      "Name: treatment, dtype: int64\n",
      "Sometimes    465\n",
      "Never        213\n",
      "Rarely       173\n",
      "Often        144\n",
      "Name: work_interfere, dtype: int64\n",
      "Some of them    774\n",
      "No              260\n",
      "Yes             225\n",
      "Name: coworkers, dtype: int64\n",
      "Yes             516\n",
      "No              393\n",
      "Some of them    350\n",
      "Name: supervisor, dtype: int64\n"
     ]
    }
   ],
   "source": [
    "print(skimmedData.family_history.value_counts())\n",
    "print(skimmedData.treatment.value_counts())\n",
    "print(skimmedData.work_interfere.value_counts())\n",
    "print(skimmedData.coworkers.value_counts())\n",
    "print(skimmedData.supervisor.value_counts())\n",
    "\n"
   ]
  },
  {
   "cell_type": "markdown",
   "metadata": {},
   "source": []
  }
 ],
 "metadata": {
  "kernelspec": {
   "display_name": "Python 3.9.12 ('base')",
   "language": "python",
   "name": "python3"
  },
  "language_info": {
   "codemirror_mode": {
    "name": "ipython",
    "version": 3
   },
   "file_extension": ".py",
   "mimetype": "text/x-python",
   "name": "python",
   "nbconvert_exporter": "python",
   "pygments_lexer": "ipython3",
   "version": "3.9.12"
  },
  "vscode": {
   "interpreter": {
    "hash": "58f790def842c69b278d952ba07e19a42a2187d81e52c152ec16b57de0002a47"
   }
  }
 },
 "nbformat": 4,
 "nbformat_minor": 2
}
