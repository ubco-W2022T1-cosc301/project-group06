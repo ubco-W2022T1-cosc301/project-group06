{
 "cells": [
  {
   "cell_type": "markdown",
   "metadata": {},
   "source": [
    "# Soren Stenback - 56957228"
   ]
  },
  {
   "cell_type": "markdown",
   "metadata": {},
   "source": [
    "## Does Country Of Origin Affect Family History Of Mental Illness?\n",
    "\n",
    "It is my theory that a person's country of origin may affect their answers in the survey collected as data for this project. As an example, Bulgaria is a former Soviet-bloc nation and did not have a very good mental health service for many years. People who answered the survey and are from Bulgaria may answer 'no' to a family history of mental illness not because it is true but because they simply do not have the records."
   ]
  },
  {
   "cell_type": "code",
   "execution_count": 23,
   "metadata": {},
   "outputs": [],
   "source": [
    "#Import required libraries\n",
    "import pandas as pd"
   ]
  },
  {
   "cell_type": "markdown",
   "metadata": {},
   "source": [
    "# Milestone 2"
   ]
  },
  {
   "cell_type": "markdown",
   "metadata": {},
   "source": [
    "## Task 4 - Load your dataset from a file or URL"
   ]
  },
  {
   "cell_type": "code",
   "execution_count": 32,
   "metadata": {},
   "outputs": [],
   "source": [
    "#Load raw data into a dataframe\n",
    "rawDataframe = pd.read_csv('../data/raw/dataRaw.csv')\n",
    "# print(rawDataframe)"
   ]
  },
  {
   "cell_type": "markdown",
   "metadata": {},
   "source": [
    "# Milestone 3"
   ]
  },
  {
   "cell_type": "markdown",
   "metadata": {},
   "source": [
    "## Task 1 - Conduct an Exploratory Data Analysis (EDA) on your dataset"
   ]
  },
  {
   "cell_type": "code",
   "execution_count": 34,
   "metadata": {},
   "outputs": [
    {
     "name": "stdout",
     "output_type": "stream",
     "text": [
      "Columns: ['Timestamp', 'Age', 'Gender', 'Country', 'state', 'self_employed', 'family_history', 'treatment', 'work_interfere', 'no_employees', 'remote_work', 'tech_company', 'benefits', 'care_options', 'wellness_program', 'seek_help', 'anonymity', 'leave', 'mental_health_consequence', 'phys_health_consequence', 'coworkers', 'supervisor', 'mental_health_interview', 'phys_health_interview', 'mental_vs_physical', 'obs_consequence', 'comments']\n",
      "Column count: 27\n"
     ]
    }
   ],
   "source": [
    "#Get the columns of the raw data and the number of columns\n",
    "rawDfColumns = list(rawDataframe.columns)\n",
    "print(f\"Columns: {rawDfColumns}\")\n",
    "print(f\"Column count: {len(rawDfColumns)}\")\n"
   ]
  },
  {
   "cell_type": "markdown",
   "metadata": {},
   "source": [
    "As shown above, there are 27 columns in the raw data: \n",
    "1. Timestamp of the individual's survey\n",
    "2. Age of the individual, gender of the individual\n",
    "3. Country of origin of the individual\n",
    "4. US state of origin of the individual if applicable\n",
    "5. Whether or not the individual is self-employed\n",
    "6. Whether the individual has a history of mental illness\n",
    "7. Whether or not the individual has sought treatment for mental health\n",
    "8. Whether the individual believes their mental health interferes with their work\n",
    "9. The number of employees at the individual's company\n",
    "10. Whether the individual works remotely (outside of an office) at least 50% of the time\n",
    "11. Whether the individual's employer is a primarily tech company\n",
    "12. Whether the individual's employer provides mental health benefits\n",
    "13. Whether the individual is aware of their employer's mental health care options\n",
    "14. Whether the individual's employer has ever discussed a mental health wellness program\n",
    "15. Whether the individual's employer provides resources on how to seek help for mental health\n",
    "16. Whether the individual is able to use company resources for mental health anonymously\n",
    "17. The difficulty of taking mental health leaves at the individual's company\n",
    "18. Whether the individual thinks discussing mental health with their employer will have negative connotations\n",
    "19. Whether the individual thinks discussing physical health with their employer will have negative connotations\n",
    "20. Whether the individual would be willing to discuss mental health with their coworkers\n",
    "21. Whether the individual would be willing to discuss mental health with their direct supervisor\n",
    "22. Whether the individual would bring up mental health issues during an interview with a possible employer\n",
    "23. Whether the individual would bring up physical health issues during an interview with a possible employer\n",
    "24. \n",
    "25. \n",
    "26. \n",
    "27. "
   ]
  }
 ],
 "metadata": {
  "kernelspec": {
   "display_name": "Python 3.9.7 64-bit",
   "language": "python",
   "name": "python3"
  },
  "language_info": {
   "codemirror_mode": {
    "name": "ipython",
    "version": 3
   },
   "file_extension": ".py",
   "mimetype": "text/x-python",
   "name": "python",
   "nbconvert_exporter": "python",
   "pygments_lexer": "ipython3",
   "version": "3.9.7"
  },
  "vscode": {
   "interpreter": {
    "hash": "89dcc342a0fed62138efada758abb9b56691d50b2e1d6d602c5938bd1909f7bb"
   }
  }
 },
 "nbformat": 4,
 "nbformat_minor": 2
}
