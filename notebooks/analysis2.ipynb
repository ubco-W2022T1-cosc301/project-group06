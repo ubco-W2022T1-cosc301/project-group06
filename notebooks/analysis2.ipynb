{
 "cells": [
  {
   "cell_type": "markdown",
   "metadata": {},
   "source": [
    "# Soren Stenback - 56957228"
   ]
  },
  {
   "cell_type": "markdown",
   "metadata": {},
   "source": [
    "## Does Country Of Origin Affect Family History Of Mental Illness\n",
    "\n",
    "It is my theory that a person's country of origin may affect their answers in the survey collected as data for this project. As an example, Bulgaria is a former Soviet-bloc nation and did not have a very good mental health service for many years. People who answered the survey and are from Bulgaria may answer 'no' to a family history of mental illness not because it is true but because they simply do not have the records."
   ]
  },
  {
   "cell_type": "code",
   "execution_count": null,
   "metadata": {},
   "outputs": [
    {
     "name": "stdout",
     "output_type": "stream",
     "text": [
      "                Timestamp  Age  Gender         Country state self_employed  \\\n",
      "0     2014-08-27 11:29:31   37  Female   United States    IL           NaN   \n",
      "1     2014-08-27 11:29:37   44       M   United States    IN           NaN   \n",
      "2     2014-08-27 11:29:44   32    Male          Canada   NaN           NaN   \n",
      "3     2014-08-27 11:29:46   31    Male  United Kingdom   NaN           NaN   \n",
      "4     2014-08-27 11:30:22   31    Male   United States    TX           NaN   \n",
      "...                   ...  ...     ...             ...   ...           ...   \n",
      "1254  2015-09-12 11:17:21   26    male  United Kingdom   NaN            No   \n",
      "1255  2015-09-26 01:07:35   32    Male   United States    IL            No   \n",
      "1256  2015-11-07 12:36:58   34    male   United States    CA            No   \n",
      "1257  2015-11-30 21:25:06   46       f   United States    NC            No   \n",
      "1258  2016-02-01 23:04:31   25    Male   United States    IL            No   \n",
      "\n",
      "     family_history treatment work_interfere    no_employees  ...  \\\n",
      "0                No       Yes          Often            6-25  ...   \n",
      "1                No        No         Rarely  More than 1000  ...   \n",
      "2                No        No         Rarely            6-25  ...   \n",
      "3               Yes       Yes          Often          26-100  ...   \n",
      "4                No        No          Never         100-500  ...   \n",
      "...             ...       ...            ...             ...  ...   \n",
      "1254             No       Yes            NaN          26-100  ...   \n",
      "1255            Yes       Yes          Often          26-100  ...   \n",
      "1256            Yes       Yes      Sometimes  More than 1000  ...   \n",
      "1257             No        No            NaN         100-500  ...   \n",
      "1258            Yes       Yes      Sometimes          26-100  ...   \n",
      "\n",
      "                   leave mental_health_consequence phys_health_consequence  \\\n",
      "0          Somewhat easy                        No                      No   \n",
      "1             Don't know                     Maybe                      No   \n",
      "2     Somewhat difficult                        No                      No   \n",
      "3     Somewhat difficult                       Yes                     Yes   \n",
      "4             Don't know                        No                      No   \n",
      "...                  ...                       ...                     ...   \n",
      "1254       Somewhat easy                        No                      No   \n",
      "1255  Somewhat difficult                        No                      No   \n",
      "1256  Somewhat difficult                       Yes                     Yes   \n",
      "1257          Don't know                       Yes                      No   \n",
      "1258          Don't know                     Maybe                      No   \n",
      "\n",
      "         coworkers    supervisor mental_health_interview  \\\n",
      "0     Some of them           Yes                      No   \n",
      "1               No            No                      No   \n",
      "2              Yes           Yes                     Yes   \n",
      "3     Some of them            No                   Maybe   \n",
      "4     Some of them           Yes                     Yes   \n",
      "...            ...           ...                     ...   \n",
      "1254  Some of them  Some of them                      No   \n",
      "1255  Some of them           Yes                      No   \n",
      "1256            No            No                      No   \n",
      "1257            No            No                      No   \n",
      "1258  Some of them            No                      No   \n",
      "\n",
      "     phys_health_interview mental_vs_physical obs_consequence comments  \n",
      "0                    Maybe                Yes              No      NaN  \n",
      "1                       No         Don't know              No      NaN  \n",
      "2                      Yes                 No              No      NaN  \n",
      "3                    Maybe                 No             Yes      NaN  \n",
      "4                      Yes         Don't know              No      NaN  \n",
      "...                    ...                ...             ...      ...  \n",
      "1254                    No         Don't know              No      NaN  \n",
      "1255                    No                Yes              No      NaN  \n",
      "1256                    No                 No              No      NaN  \n",
      "1257                    No                 No              No      NaN  \n",
      "1258                    No         Don't know              No      NaN  \n",
      "\n",
      "[1259 rows x 27 columns]\n"
     ]
    }
   ],
   "source": [
    "import pandas as pd\n",
    "\n",
    "rawDataframe = pd.read_csv('../data/raw/dataRaw.csv')\n",
    "print(rawDataframe)"
   ]
  }
 ],
 "metadata": {
  "kernelspec": {
   "display_name": "Python 3.9.12 ('base')",
   "language": "python",
   "name": "python3"
  }
 },
 "nbformat": 4,
 "nbformat_minor": 2
}
