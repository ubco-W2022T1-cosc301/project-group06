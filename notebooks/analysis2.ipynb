{
 "cells": [
  {
   "cell_type": "markdown",
   "metadata": {},
   "source": [
    "# Soren Stenback - 56957228"
   ]
  },
  {
   "cell_type": "markdown",
   "metadata": {},
   "source": [
    "## Does Country Of Origin Affect Family History Of Mental Illness?\n",
    "\n",
    "It is my theory that a person's country of origin may affect their answers in the survey collected as data for this project. As an example, Bulgaria is a former Soviet-bloc nation and did not have a very good mental health service for many years. People who answered the survey and are from Bulgaria may answer 'no' to a family history of mental illness not because it is true but because they simply do not have the records."
   ]
  },
  {
   "cell_type": "code",
   "execution_count": 8,
   "metadata": {},
   "outputs": [],
   "source": [
    "#Import required libraries\n",
    "import pandas as pd"
   ]
  },
  {
   "cell_type": "markdown",
   "metadata": {},
   "source": [
    "---"
   ]
  },
  {
   "cell_type": "markdown",
   "metadata": {},
   "source": [
    "# Milestone 2"
   ]
  },
  {
   "cell_type": "markdown",
   "metadata": {},
   "source": [
    "## Task 4 - Load your dataset from a file or URL"
   ]
  },
  {
   "cell_type": "code",
   "execution_count": 10,
   "metadata": {},
   "outputs": [],
   "source": [
    "#Load raw data into a dataframe\n",
    "rawDataframe = pd.read_csv('../data/raw/dataRaw.csv')"
   ]
  },
  {
   "cell_type": "markdown",
   "metadata": {},
   "source": [
    "---"
   ]
  },
  {
   "cell_type": "markdown",
   "metadata": {},
   "source": [
    "# Milestone 3"
   ]
  },
  {
   "cell_type": "markdown",
   "metadata": {},
   "source": [
    "## Task 1 - Conduct an Exploratory Data Analysis (EDA) on your dataset"
   ]
  },
  {
   "cell_type": "code",
   "execution_count": 3,
   "metadata": {},
   "outputs": [
    {
     "name": "stdout",
     "output_type": "stream",
     "text": [
      "Columns: ['Timestamp', 'Age', 'Gender', 'Country', 'state', 'self_employed', 'family_history', 'treatment', 'work_interfere', 'no_employees', 'remote_work', 'tech_company', 'benefits', 'care_options', 'wellness_program', 'seek_help', 'anonymity', 'leave', 'mental_health_consequence', 'phys_health_consequence', 'coworkers', 'supervisor', 'mental_health_interview', 'phys_health_interview', 'mental_vs_physical', 'obs_consequence', 'comments']\n",
      "Column count: 27\n"
     ]
    }
   ],
   "source": [
    "#Get the columns of the raw data and the number of columns\n",
    "rawDfColumns = list(rawDataframe.columns)\n",
    "print(f\"Columns: {rawDfColumns}\")\n",
    "print(f\"Column count: {len(rawDfColumns)}\")\n"
   ]
  },
  {
   "cell_type": "markdown",
   "metadata": {},
   "source": [
    "As shown above and in the [data source](https://www.kaggle.com/datasets/osmi/mental-health-in-tech-survey), there are 27 columns in the raw data: \n",
    "1. Timestamp of the individual's survey\n",
    "2. Age of the individual\n",
    "3. Gender of the individual\n",
    "4. Country of origin of the individual\n",
    "5. US state of origin of the individual if applicable\n",
    "6. Whether or not the individual is self-employed\n",
    "7. Whether the individual has a history of mental illness\n",
    "8. Whether or not the individual has sought treatment for mental health\n",
    "9. Whether the individual believes their mental health interferes with their work\n",
    "10. The number of employees at the individual's company\n",
    "11. Whether the individual works remotely (outside of an office) at least 50% of the time\n",
    "12. Whether the individual's employer is a primarily tech company\n",
    "13. Whether the individual's employer provides mental health benefits\n",
    "14. Whether the individual is aware of their employer's mental health care options\n",
    "15. Whether the individual's employer has ever discussed a mental health wellness program\n",
    "16. Whether the individual's employer provides resources on how to seek help for mental health\n",
    "17. Whether the individual is able to use company resources for mental health anonymously\n",
    "18. The difficulty of taking mental health leaves at the individual's company\n",
    "19. Whether the individual thinks discussing mental health with their employer will have negative connotations\n",
    "20. Whether the individual thinks discussing physical health with their employer will have negative connotations\n",
    "21. Whether the individual would be willing to discuss mental health with their coworkers\n",
    "22. Whether the individual would be willing to discuss mental health with their direct supervisor\n",
    "23. Whether the individual would bring up mental health issues during an interview with a possible employer\n",
    "24. Whether the individual would bring up physical health issues during an interview with a possible employer\n",
    "25. Whether the individual believes their employer takes mental health as seriously as physical health\n",
    "26. Whether the individual has heard of or observed any negative consequences with mental health conditions in their workplace\n",
    "27.  Any additional comments"
   ]
  },
  {
   "cell_type": "code",
   "execution_count": 7,
   "metadata": {},
   "outputs": [
    {
     "name": "stdout",
     "output_type": "stream",
     "text": [
      "['2014-08-27 11:29:31' '2014-08-27 11:29:37' '2014-08-27 11:29:44' ...\n",
      " '2015-11-07 12:36:58' '2015-11-30 21:25:06' '2016-02-01 23:04:31']\n",
      "[         37          44          32          31          33          35\n",
      "          39          42          23          29          36          27\n",
      "          46          41          34          30          40          38\n",
      "          50          24          18          28          26          22\n",
      "          19          25          45          21         -29          43\n",
      "          56          60          54         329          55 99999999999\n",
      "          48          20          57          58          47          62\n",
      "          51          65          49       -1726           5          53\n",
      "          61           8          11          -1          72]\n",
      "['Female' 'M' 'Male' 'male' 'female' 'm' 'Male-ish' 'maile' 'Trans-female'\n",
      " 'Cis Female' 'F' 'something kinda male?' 'Cis Male' 'Woman' 'f' 'Mal'\n",
      " 'Male (CIS)' 'queer/she/they' 'non-binary' 'Femake' 'woman' 'Make' 'Nah'\n",
      " 'All' 'Enby' 'fluid' 'Genderqueer' 'Female ' 'Androgyne' 'Agender'\n",
      " 'cis-female/femme' 'Guy (-ish) ^_^' 'male leaning androgynous' 'Male '\n",
      " 'Man' 'Trans woman' 'msle' 'Neuter' 'Female (trans)' 'queer'\n",
      " 'Female (cis)' 'Mail' 'cis male' 'A little about you' 'Malr' 'p' 'femail'\n",
      " 'Cis Man' 'ostensibly male, unsure what that really means']\n",
      "['United States' 'Canada' 'United Kingdom' 'Bulgaria' 'France' 'Portugal'\n",
      " 'Netherlands' 'Switzerland' 'Poland' 'Australia' 'Germany' 'Russia'\n",
      " 'Mexico' 'Brazil' 'Slovenia' 'Costa Rica' 'Austria' 'Ireland' 'India'\n",
      " 'South Africa' 'Italy' 'Sweden' 'Colombia' 'Latvia' 'Romania' 'Belgium'\n",
      " 'New Zealand' 'Zimbabwe' 'Spain' 'Finland' 'Uruguay' 'Israel'\n",
      " 'Bosnia and Herzegovina' 'Hungary' 'Singapore' 'Japan' 'Nigeria'\n",
      " 'Croatia' 'Norway' 'Thailand' 'Denmark' 'Bahamas, The' 'Greece' 'Moldova'\n",
      " 'Georgia' 'China' 'Czech Republic' 'Philippines']\n"
     ]
    }
   ],
   "source": [
    "#Call the unique values in the first few columns\n",
    "print(rawDataframe.Timestamp.unique())\n",
    "print(rawDataframe.Age.unique())\n",
    "print(rawDataframe.Gender.unique())\n",
    "print(rawDataframe.Country.unique())"
   ]
  },
  {
   "cell_type": "markdown",
   "metadata": {},
   "source": [
    "We can see above that there are a variety of custom values entered into the surveys. We will need to clean up the data, as well as trim down the columns to what we need for our research question.\n",
    "\n",
    "As the research question above specifically relates to history of illness, we can strip down most of the columns about the workplaces specifically. We will want to keep the data on the individuals themselves, such as gender and age, as well as the vital information on country of origin and family history of mental health. Other columns can be removed from the dataframe and a new dataset created."
   ]
  },
  {
   "cell_type": "code",
   "execution_count": 55,
   "metadata": {},
   "outputs": [],
   "source": [
    "#Use the list of columns above to cut all but 'Age', 'Gender', 'Country', and 'family_history'\n",
    "resQuesDf = rawDataframe.drop(columns=['Timestamp', 'state', 'self_employed', 'treatment', 'work_interfere', 'no_employees', 'remote_work', 'tech_company', 'benefits', 'care_options', 'wellness_program', 'seek_help', 'anonymity', 'leave', 'mental_health_consequence', 'phys_health_consequence', 'coworkers', 'supervisor', 'mental_health_interview', 'phys_health_interview', 'mental_vs_physical', 'obs_consequence', 'comments'])"
   ]
  },
  {
   "cell_type": "markdown",
   "metadata": {},
   "source": [
    "Now that we have cut down our dataframe to only the relevant columns, we need to clean up the data inside those columns. By identifying misspelled values or 'joke' entries we can clean them up into relevant data and ensure that we will not encounter any strange data while processing and analysing."
   ]
  },
  {
   "cell_type": "code",
   "execution_count": 56,
   "metadata": {},
   "outputs": [],
   "source": [
    "#Create a list of each unique gender entry and what they need to be converted to\n",
    "convertGenderList = [('Female','Female'),('M','Male'),('Male','Male'),('male','Male'),('female','Female'),('m','Male'),('Male-ish','Male'),('maile','Male'),('Trans-female','Female'),('Cis Female','Female'),('F','Female'),('something kinda male?','Male'),('Cis Male','Male'),('Woman','Female'),('f','Female'),('Mal','Male'),('Male (CIS)','Male'),('queer/she/they','Genderqueer'),('non-binary','Non-Binary'),('Femake','Female'),('woman','Female'),('Make','Male'),('Nah','Non-Binary'),('All','Genderqueer'),('Enby','Non-Binary'),('fluid','Genderqueer'),('Genderqueer','Genderqueer'),('Female ','Female'),('Androgyne','Genderqueer'),('Agender','Non-Binary'),('cis-female/femme','Female'),('Guy (-ish) ^_^','Male'),('male leaning androgynous','Genderqueer'),('Male ','Male'),('Man','Male'),('Trans woman','Male'),('msle','Male'),('Neuter','Non-Binary'),('Female (trans)','Female'),('queer','Genderqueer'),('Female (cis)','Female'),('Mail','Male'),('cis male','Male'),('A little about you','Genderqueer'),('Malr','Male'),('p','Genderqueer'),('femail','Female'),('Cis Man','Male'),('ostensibly male, unsure what that really means','Male')]\n",
    "#Convert each value in the 'Gender' column to one of the default selections; Male, Female, Non-Binary, Genderqueer\n",
    "for item in convertGenderList:\n",
    "    resQuesDf['Gender'].replace(*item,inplace=True)\n",
    "#Get row numbers for rows whose ages are less than 18 and more than 120, as values outside this range are not acceptable\n",
    "invalidAgeList = list(resQuesDf.loc[(resQuesDf['Age'] < 18) | (resQuesDf['Age'] > 120)].index)\n",
    "#Set the value of 'Age' in each of the invalid row indexes to be 'NA'\n",
    "resQuesDf.loc[invalidAgeList,'Age'] = 'NA'"
   ]
  },
  {
   "cell_type": "markdown",
   "metadata": {},
   "source": [
    "Now that the data has been cleaned up, we will save it to a new processed csv file for safekeeping."
   ]
  },
  {
   "cell_type": "code",
   "execution_count": null,
   "metadata": {},
   "outputs": [],
   "source": [
    "#Write the dataframe to a CSV file in data/processed\n",
    "resQuesDf.to_csv('../data/processed/sstenbackResearchQuestionData.csv',index=False)"
   ]
  },
  {
   "cell_type": "markdown",
   "metadata": {},
   "source": [
    "---"
   ]
  },
  {
   "cell_type": "markdown",
   "metadata": {},
   "source": [
    "# Milestone 4"
   ]
  }
 ],
 "metadata": {
  "kernelspec": {
   "display_name": "Python 3.9.7 64-bit",
   "language": "python",
   "name": "python3"
  },
  "language_info": {
   "codemirror_mode": {
    "name": "ipython",
    "version": 3
   },
   "file_extension": ".py",
   "mimetype": "text/x-python",
   "name": "python",
   "nbconvert_exporter": "python",
   "pygments_lexer": "ipython3",
   "version": "3.9.7"
  },
  "vscode": {
   "interpreter": {
    "hash": "89dcc342a0fed62138efada758abb9b56691d50b2e1d6d602c5938bd1909f7bb"
   }
  }
 },
 "nbformat": 4,
 "nbformat_minor": 2
}
