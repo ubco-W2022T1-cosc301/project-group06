{
 "cells": [
  {
   "cell_type": "markdown",
   "metadata": {},
   "source": [
    "## Making a dataset for Simone to use in Tableau that has the new column created in Milestone 3 Task 4"
   ]
  },
  {
   "cell_type": "code",
   "execution_count": 1,
   "metadata": {},
   "outputs": [],
   "source": [
    "# importing needed libraries\n",
    "import pandas as pd\n",
    "import numpy as np\n",
    "import matplotlib.pyplot as plt\n",
    "import seaborn as sns"
   ]
  },
  {
   "cell_type": "code",
   "execution_count": 6,
   "metadata": {},
   "outputs": [],
   "source": [
    "rawDF = pd.read_csv('../../data/raw/dataRaw.csv')"
   ]
  },
  {
   "cell_type": "code",
   "execution_count": 7,
   "metadata": {},
   "outputs": [
    {
     "name": "stderr",
     "output_type": "stream",
     "text": [
      "C:\\Users\\simfl\\AppData\\Local\\Temp\\ipykernel_7496\\1400661758.py:17: SettingWithCopyWarning: \n",
      "A value is trying to be set on a copy of a slice from a DataFrame\n",
      "\n",
      "See the caveats in the documentation: https://pandas.pydata.org/pandas-docs/stable/user_guide/indexing.html#returning-a-view-versus-a-copy\n",
      "  newdf.drop(filtered_high_df,inplace=True)\n",
      "C:\\Users\\simfl\\AppData\\Local\\Temp\\ipykernel_7496\\1400661758.py:19: SettingWithCopyWarning: \n",
      "A value is trying to be set on a copy of a slice from a DataFrame\n",
      "\n",
      "See the caveats in the documentation: https://pandas.pydata.org/pandas-docs/stable/user_guide/indexing.html#returning-a-view-versus-a-copy\n",
      "  newdf.drop(filtered_low_df,inplace=True)\n"
     ]
    },
    {
     "data": {
      "text/html": [
       "<div>\n",
       "<style scoped>\n",
       "    .dataframe tbody tr th:only-of-type {\n",
       "        vertical-align: middle;\n",
       "    }\n",
       "\n",
       "    .dataframe tbody tr th {\n",
       "        vertical-align: top;\n",
       "    }\n",
       "\n",
       "    .dataframe thead th {\n",
       "        text-align: right;\n",
       "    }\n",
       "</style>\n",
       "<table border=\"1\" class=\"dataframe\">\n",
       "  <thead>\n",
       "    <tr style=\"text-align: right;\">\n",
       "      <th></th>\n",
       "      <th>Age</th>\n",
       "      <th>treatment</th>\n",
       "      <th>supervisor</th>\n",
       "      <th>coworkers</th>\n",
       "    </tr>\n",
       "  </thead>\n",
       "  <tbody>\n",
       "    <tr>\n",
       "      <th>0</th>\n",
       "      <td>37</td>\n",
       "      <td>Yes</td>\n",
       "      <td>Yes</td>\n",
       "      <td>Some of them</td>\n",
       "    </tr>\n",
       "    <tr>\n",
       "      <th>1</th>\n",
       "      <td>44</td>\n",
       "      <td>No</td>\n",
       "      <td>No</td>\n",
       "      <td>No</td>\n",
       "    </tr>\n",
       "    <tr>\n",
       "      <th>2</th>\n",
       "      <td>32</td>\n",
       "      <td>No</td>\n",
       "      <td>Yes</td>\n",
       "      <td>Yes</td>\n",
       "    </tr>\n",
       "    <tr>\n",
       "      <th>3</th>\n",
       "      <td>31</td>\n",
       "      <td>Yes</td>\n",
       "      <td>No</td>\n",
       "      <td>Some of them</td>\n",
       "    </tr>\n",
       "    <tr>\n",
       "      <th>4</th>\n",
       "      <td>31</td>\n",
       "      <td>No</td>\n",
       "      <td>Yes</td>\n",
       "      <td>Some of them</td>\n",
       "    </tr>\n",
       "  </tbody>\n",
       "</table>\n",
       "</div>"
      ],
      "text/plain": [
       "   Age treatment supervisor     coworkers\n",
       "0   37       Yes        Yes  Some of them\n",
       "1   44        No         No            No\n",
       "2   32        No        Yes           Yes\n",
       "3   31       Yes         No  Some of them\n",
       "4   31        No        Yes  Some of them"
      ]
     },
     "execution_count": 7,
     "metadata": {},
     "output_type": "execute_result"
    }
   ],
   "source": [
    "# #Takes only a few columns from the raw data and makes it into a new file\n",
    "newdf = rawDF[['Age', 'treatment', 'supervisor', 'coworkers']]\n",
    "\n",
    "# #Get a list of all the age values in the dataframe \n",
    "agedf = rawDF[['Age']]\n",
    "# Find the max age\n",
    "age_max = agedf.max(axis=0)\n",
    "# Find the min age\n",
    "age_min = agedf.min(axis=0)\n",
    "\n",
    "# #Find incompatible age values and remove those rows\n",
    "# Find all ages above 100\n",
    "filtered_high_df = newdf[newdf['Age'] >= 100].index\n",
    "# Find all ages below 18\n",
    "filtered_low_df = newdf[newdf['Age'] <= 18].index\n",
    "# Drop rows with too high index\n",
    "newdf.drop(filtered_high_df,inplace=True)\n",
    "# Drop rows with too low index\n",
    "newdf.drop(filtered_low_df,inplace=True)\n",
    "\n",
    "newdf.head(5)"
   ]
  },
  {
   "cell_type": "code",
   "execution_count": 10,
   "metadata": {},
   "outputs": [
    {
     "name": "stderr",
     "output_type": "stream",
     "text": [
      "C:\\Users\\simfl\\AppData\\Local\\Temp\\ipykernel_7496\\3162278337.py:13: SettingWithCopyWarning: \n",
      "A value is trying to be set on a copy of a slice from a DataFrame.\n",
      "Try using .loc[row_indexer,col_indexer] = value instead\n",
      "\n",
      "See the caveats in the documentation: https://pandas.pydata.org/pandas-docs/stable/user_guide/indexing.html#returning-a-view-versus-a-copy\n",
      "  newdf['age_label'] = newdf.apply(lambda row: label_age(row), axis=1)\n"
     ]
    }
   ],
   "source": [
    "#creating a new column that labels the age generation of the tech worker\n",
    "def label_age (row):\n",
    "   \"\"\"Takes the number in the Age column, and if that age is in a certain range, what is returned in the new column is the name of that generation.\"\"\"\n",
    "   if row['Age'] >= 52:\n",
    "      return 'Boomer'\n",
    "   if row['Age'] >= 37 and row['Age'] <= 51:\n",
    "      return 'Gen X'\n",
    "   if row['Age'] >= 20 and row['Age'] <= 36:\n",
    "      return 'Millennial'\n",
    "   if row['Age'] <= 19:\n",
    "      return 'Gen Z'\n",
    "\n",
    "newdf['age_label'] = newdf.apply(lambda row: label_age(row), axis=1)\n",
    "newdf.to_csv('../../data/processed/sflowersTableauData.csv')"
   ]
  }
 ],
 "metadata": {
  "kernelspec": {
   "display_name": "Python 3.9.12 ('base')",
   "language": "python",
   "name": "python3"
  },
  "language_info": {
   "codemirror_mode": {
    "name": "ipython",
    "version": 3
   },
   "file_extension": ".py",
   "mimetype": "text/x-python",
   "name": "python",
   "nbconvert_exporter": "python",
   "pygments_lexer": "ipython3",
   "version": "3.9.12"
  },
  "orig_nbformat": 4,
  "vscode": {
   "interpreter": {
    "hash": "4c35e88ab70169ef869585f694074b9284570cc79ba9fb2cebbfd5fe8a6d103d"
   }
  }
 },
 "nbformat": 4,
 "nbformat_minor": 2
}
