{
 "cells": [
  {
   "cell_type": "markdown",
   "id": "e38a0589-78e6-45c9-87ed-89372010688e",
   "metadata": {},
   "source": [
    "### Task 4: Data Analysis"
   ]
  },
  {
   "cell_type": "code",
   "execution_count": 1,
   "id": "c2ec8183-ad35-4fff-b57b-acb74b40b26a",
   "metadata": {},
   "outputs": [],
   "source": [
    "import pandas as pd\n",
    "import numpy as np\n",
    "import matplotlib.pylab as plt\n",
    "import seaborn as sns"
   ]
  },
  {
   "cell_type": "markdown",
   "id": "396e1291",
   "metadata": {},
   "source": [
    "Creating a data-frame that's best for Simone's research question, is there a correlation between age of an employee in the Tech work industry and them seeking treatment for their mental health issues"
   ]
  },
  {
   "cell_type": "markdown",
   "id": "20723a05",
   "metadata": {},
   "source": [
    "[Table of Generations](https://www.careerplanner.com/Career-Articles/Generations.cfm)\n",
    "\n",
    "- Boomer: 52 and higher\n",
    "- Gen X: 37 - 51\n",
    "- Millennial: 20 - 36\n",
    "- Gen Z/Zoomer: 19 and lower"
   ]
  },
  {
   "cell_type": "code",
   "execution_count": null,
   "id": "5aefc4dc",
   "metadata": {},
   "outputs": [],
   "source": [
    "#project_function1 is in the sflowers-milestone3 branch, so it won't work while in main branch until soren merges them.\n",
    "#pls delete these messages when everyone is done.\n",
    "import project_functions1 as p1\n",
    "\n",
    "load_df = pd.read_csv('../data/raw/dataRaw.csv')\n",
    "proj_df = p1.load_and_process(load_df)\n",
    "\n",
    "#creating a new column that labels the age generation of the tech worker\n",
    "def label_age (row):\n",
    "   \"\"\"Takes the number in the Age column, and if that age is in a certain range, what is returned in the new column is the name of that generation.\"\"\"\n",
    "   if row['Age'] >= 52:\n",
    "      return 'Boomer'\n",
    "   if row['Age'] >= 37 and row['Age'] <= 51:\n",
    "      return 'Gen X'\n",
    "   if row['Age'] >= 20 and row['Age'] <= 36:\n",
    "      return 'Millennial'\n",
    "   if row['Age'] <= 19:\n",
    "      return 'Gen Z'\n",
    "\n",
    "proj_df['age_label'] = proj_df.apply (lambda row: label_age(row), axis=1)"
   ]
  },
  {
   "cell_type": "code",
   "execution_count": null,
   "id": "d6f6082d",
   "metadata": {},
   "outputs": [],
   "source": [
    "hue_order = ['Boomer', 'Gen X', 'Millennial', 'Gen Z']\n",
    "\n",
    "sns.countplot(x='treatment', data=proj_df, hue='age_label', hue_order=hue_order).set(title='Willingness for Mental Health Treatment based on Age Group')\n",
    "plt.show()"
   ]
  },
  {
   "cell_type": "markdown",
   "id": "66803b10",
   "metadata": {},
   "source": [
    "Figure 1: In the above countplot, it shows the willingness of tech workers to get treatment for their mental health issues, divided by their age class. Both Boomers and Gen X employees are more likely to get treatment for their mental health than Millennials and Gen Z employees."
   ]
  },
  {
   "cell_type": "code",
   "execution_count": null,
   "id": "fbea95a7",
   "metadata": {},
   "outputs": [],
   "source": [
    "sns.countplot(x='supervisor', data=proj_df, hue='age_label', hue_order=hue_order).set(title='Willingness to Discuss Mental Health with Supervisor based on Age Group')\n",
    "plt.show()"
   ]
  },
  {
   "cell_type": "markdown",
   "id": "d6d7b73c",
   "metadata": {},
   "source": [
    "Figure 2: The above countplot reveals a tech worker's willingness to discuss mental health issues with their supervisors, separated by age generations. Boomers, Gen X, and Millennials answered 'Yes' more than the other answers, while Gen Z answered 'No' more times than the other answers."
   ]
  },
  {
   "cell_type": "code",
   "execution_count": null,
   "id": "2482472b",
   "metadata": {},
   "outputs": [],
   "source": [
    "orderedList = list(newdf['coworkers'].sort_values().unique())\n",
    "orderedList.remove('Yes')\n",
    "orderedList.insert(0,'Yes')\n",
    "sns.countplot(x='coworkers', data=proj_df, hue='age_label', hue_order=hue_order, order=orderedList).set(title='Willingness to Discuss Mental Health with Coworkers based on Age Group')\n",
    "plt.show()"
   ]
  },
  {
   "cell_type": "markdown",
   "id": "073bd5d9",
   "metadata": {},
   "source": [
    "Figure 3: The above countplot illustrates a tech worker's willingness to discuss mental health issues with their coworkers, separated by age generations. What is shown is that all age generations answered 'Some of them' the most, and 'Yes' the least."
   ]
  },
  {
   "cell_type": "markdown",
   "id": "d2851637",
   "metadata": {},
   "source": [
    "### Conclusion\n",
    "\n",
    "Overall, it seems that there is no significant correlation between the age of a tech worker and their willingness to seek treatment for or discuss mental health issues. In fact, it seems that Boomers and Gen X workers are more likely to seek treatment than Millennials and Gen Z which contradicts my expectations. Gen Z workers also appear less likely to discuss mental health issues with their supervisor than other generations. While this may be a trend for Gen Z tech employees, it may also be a result of not having enough Gen Z tech workers answer the survey. The same can be said for Boomer workers. Overall, this was an enlightening analysis showing that while the survey was conducted, there is no evidence that older generations are more stigmatized against mental health issues than younger generations."
   ]
  },
  {
   "cell_type": "markdown",
   "id": "1f251d96",
   "metadata": {},
   "source": [
    "# Note for Soren & Eveline:\n",
    "I just put up all of my graphs and notes on here. Feel free to delete what isn't needed. Also, my code will not work until sflowers-milestone3 is merged with main. If it still doesn't work after that, then idk what happened."
   ]
  }
 ],
 "metadata": {
  "kernelspec": {
   "display_name": "Python 3.9.12 ('base')",
   "language": "python",
   "name": "python3"
  },
  "language_info": {
   "codemirror_mode": {
    "name": "ipython",
    "version": 3
   },
   "file_extension": ".py",
   "mimetype": "text/x-python",
   "name": "python",
   "nbconvert_exporter": "python",
   "pygments_lexer": "ipython3",
   "version": "3.9.12"
  },
  "vscode": {
   "interpreter": {
    "hash": "4c35e88ab70169ef869585f694074b9284570cc79ba9fb2cebbfd5fe8a6d103d"
   }
  }
 },
 "nbformat": 4,
 "nbformat_minor": 5
}
